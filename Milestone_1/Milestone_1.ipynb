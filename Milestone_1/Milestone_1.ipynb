{
 "cells": [
  {
   "cell_type": "markdown",
   "metadata": {},
   "source": [
    "# Milestone 1\n",
    "### By Carlos Camacho\n",
    "This is a Jupyter Notebook showing an example image of a satellite dataset read in using Rasterio, and demonstration of a function that carries out a manipulation of that image using Keras and Tensorflow 2.0."
   ]
  },
  {
   "cell_type": "markdown",
   "metadata": {},
   "source": [
    "# Imports"
   ]
  },
  {
   "cell_type": "code",
   "execution_count": null,
   "metadata": {},
   "outputs": [
    {
     "name": "stderr",
     "output_type": "stream",
     "text": [
      "D:\\apps\\Anaconda\\envs\\liveproject\\lib\\site-packages\\tensorflow\\python\\framework\\dtypes.py:526: FutureWarning: Passing (type, 1) or '1type' as a synonym of type is deprecated; in a future version of numpy, it will be understood as (type, (1,)) / '(1,)type'.\n",
      "  _np_qint8 = np.dtype([(\"qint8\", np.int8, 1)])\n",
      "D:\\apps\\Anaconda\\envs\\liveproject\\lib\\site-packages\\tensorflow\\python\\framework\\dtypes.py:527: FutureWarning: Passing (type, 1) or '1type' as a synonym of type is deprecated; in a future version of numpy, it will be understood as (type, (1,)) / '(1,)type'.\n",
      "  _np_quint8 = np.dtype([(\"quint8\", np.uint8, 1)])\n",
      "D:\\apps\\Anaconda\\envs\\liveproject\\lib\\site-packages\\tensorflow\\python\\framework\\dtypes.py:528: FutureWarning: Passing (type, 1) or '1type' as a synonym of type is deprecated; in a future version of numpy, it will be understood as (type, (1,)) / '(1,)type'.\n",
      "  _np_qint16 = np.dtype([(\"qint16\", np.int16, 1)])\n",
      "D:\\apps\\Anaconda\\envs\\liveproject\\lib\\site-packages\\tensorflow\\python\\framework\\dtypes.py:529: FutureWarning: Passing (type, 1) or '1type' as a synonym of type is deprecated; in a future version of numpy, it will be understood as (type, (1,)) / '(1,)type'.\n",
      "  _np_quint16 = np.dtype([(\"quint16\", np.uint16, 1)])\n",
      "D:\\apps\\Anaconda\\envs\\liveproject\\lib\\site-packages\\tensorflow\\python\\framework\\dtypes.py:530: FutureWarning: Passing (type, 1) or '1type' as a synonym of type is deprecated; in a future version of numpy, it will be understood as (type, (1,)) / '(1,)type'.\n",
      "  _np_qint32 = np.dtype([(\"qint32\", np.int32, 1)])\n",
      "D:\\apps\\Anaconda\\envs\\liveproject\\lib\\site-packages\\tensorflow\\python\\framework\\dtypes.py:535: FutureWarning: Passing (type, 1) or '1type' as a synonym of type is deprecated; in a future version of numpy, it will be understood as (type, (1,)) / '(1,)type'.\n",
      "  np_resource = np.dtype([(\"resource\", np.ubyte, 1)])\n"
     ]
    }
   ],
   "source": [
    "import rasterio\n",
    "import numpy as np\n",
    "import matplotlib.pyplot as plt\n",
    "import tensorflow as tf\n",
    "import scipy\n",
    "from PIL import Image\n",
    "from tensorflow.keras.preprocessing.image import load_img"
   ]
  },
  {
   "cell_type": "code",
   "execution_count": null,
   "metadata": {},
   "outputs": [],
   "source": [
    "def normalize(array):\n",
    "    array_min, array_max = array.min(), array.max()\n",
    "    return (array - array_min) / (array_max - array_min)### Define useful functions\n",
    "   \n",
    "def plot_img(dataset):\n",
    "    b1 = dataset.read(3)\n",
    "    b2 = dataset.read(2)\n",
    "    b3 = dataset.read(1)\n",
    "\n",
    "    b1n = normalize(b1)\n",
    "    b2n = normalize(b2)\n",
    "    b3n = normalize(b3)\n",
    "\n",
    "    comp = np.dstack((b1n, b2n, b3n))\n",
    "    plt.figure(figsize=(10,10))\n",
    "    plt.imshow(comp)\n",
    "    \n",
    "def plot_histogram(dataset):\n",
    "    from rasterio.plot import show_hist\n",
    "    plt.figure(figsize=(10,10))\n",
    "    show_hist(dataset, bins=50, lw=0.0, stacked=False, alpha=0.3, histtype='stepfilled', title='Histogram')"
   ]
  },
  {
   "cell_type": "markdown",
   "metadata": {},
   "source": [
    "# Use of rasterio for data manipulation\n",
    "### Opening the raster dataset"
   ]
  },
  {
   "cell_type": "code",
   "execution_count": null,
   "metadata": {},
   "outputs": [],
   "source": [
    "dataset = rasterio.open('presa_calles.jpg')\n",
    "print('Raster dataset info:')\n",
    "print(dataset.profile)"
   ]
  },
  {
   "cell_type": "markdown",
   "metadata": {},
   "source": [
    "### Plotting the raster dataset and histogram values"
   ]
  },
  {
   "cell_type": "code",
   "execution_count": null,
   "metadata": {},
   "outputs": [],
   "source": [
    "plot_img(dataset)"
   ]
  },
  {
   "cell_type": "markdown",
   "metadata": {},
   "source": [
    "Histogram of raster data"
   ]
  },
  {
   "cell_type": "code",
   "execution_count": null,
   "metadata": {},
   "outputs": [],
   "source": [
    "plot_histogram(dataset)"
   ]
  },
  {
   "cell_type": "markdown",
   "metadata": {},
   "source": [
    "### Reprojecting data"
   ]
  },
  {
   "cell_type": "code",
   "execution_count": null,
   "metadata": {},
   "outputs": [],
   "source": [
    "from rasterio.warp import calculate_default_transform, reproject, Resampling\n",
    "\n",
    "dst_crs = 'EPSG:4326'\n",
    "\n",
    "transform, width, height = calculate_default_transform(dataset.crs, dst_crs, dataset.width, dataset.height, *dataset.bounds)\n",
    "kwargs = dataset.meta.copy()\n",
    "kwargs.update({\n",
    "    'crs': dst_crs,\n",
    "    'transform': transform,\n",
    "    'width': width,\n",
    "    'height': height\n",
    "})\n",
    "with rasterio.open('presa_calles_wgs84.jpg', 'w', **kwargs) as output_ds:\n",
    "    for i in range(1, dataset.count + 1):\n",
    "        reproject(source=rasterio.band(dataset, i),\n",
    "                 destination=rasterio.band(output_ds, i),\n",
    "                 src_transform=dataset.transform,\n",
    "                 src_crs=dataset.crs,\n",
    "                 dst_transform=transform,\n",
    "                 dst_crs=dst_crs,\n",
    "                 resampling=Resampling.nearest)\n",
    "dataset_wgs84 = rasterio.open('presa_calles_wgs84.jpg')\n",
    "print(dataset_wgs84.profile)"
   ]
  },
  {
   "cell_type": "code",
   "execution_count": null,
   "metadata": {},
   "outputs": [],
   "source": [
    "from rasterio.plot import show\n",
    "plt.figure(figsize=(10,10))\n",
    "show(dataset_wgs84)\n",
    "plot_histogram(dataset_wgs84)"
   ]
  },
  {
   "cell_type": "markdown",
   "metadata": {},
   "source": [
    "# Use of tensorflow for data manipulation"
   ]
  },
  {
   "cell_type": "code",
   "execution_count": null,
   "metadata": {},
   "outputs": [],
   "source": [
    "import matplotlib.image as mpimg\n",
    "filename = 'presa_calles.jpg'\n",
    "\n",
    "image = mpimg.imread(filename)\n",
    "print(image.shape)\n",
    "\n",
    "plt.figure(figsize=(10,10))\n",
    "plt.imshow(img)"
   ]
  },
  {
   "cell_type": "markdown",
   "metadata": {},
   "source": [
    "### Transpose of image"
   ]
  },
  {
   "cell_type": "code",
   "execution_count": null,
   "metadata": {},
   "outputs": [],
   "source": [
    "x = tf.Variable(image, name='x')\n",
    "\n",
    "model = tf.global_variables_initializer()\n",
    "\n",
    "with tf.Session() as session:\n",
    "    x = tf.transpose(x, perm=[1, 0, 2])\n",
    "    session.run(model)\n",
    "    result = session.run(x)\n",
    "\n",
    "print(result.shape)\n",
    "plt.figure(figsize=(10,10))\n",
    "plt.imshow(result)"
   ]
  },
  {
   "cell_type": "markdown",
   "metadata": {},
   "source": [
    "### Reverse of image"
   ]
  },
  {
   "cell_type": "code",
   "execution_count": null,
   "metadata": {},
   "outputs": [],
   "source": [
    "height, width, bands = image.shape\n",
    "x = tf.Variable(image, name='x')\n",
    "\n",
    "model = tf.global_variables_initializer()\n",
    "\n",
    "with tf.Session() as session:\n",
    "    x = tf.reverse_sequence(x, [width]*height, 1, batch_dim=0)\n",
    "    session.run(model)\n",
    "    result = session.run(x)\n",
    "    \n",
    "print(result.shape)\n",
    "plt.figure(figsize=(10,10))\n",
    "plt.imshow(result)"
   ]
  }
 ],
 "metadata": {
  "kernelspec": {
   "display_name": "Python 3",
   "language": "python",
   "name": "python3"
  },
  "language_info": {
   "codemirror_mode": {
    "name": "ipython",
    "version": 3
   },
   "file_extension": ".py",
   "mimetype": "text/x-python",
   "name": "python",
   "nbconvert_exporter": "python",
   "pygments_lexer": "ipython3",
   "version": "3.7.6"
  }
 },
 "nbformat": 4,
 "nbformat_minor": 4
}
